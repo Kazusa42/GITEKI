{
 "cells": [
  {
   "cell_type": "code",
   "execution_count": null,
   "metadata": {},
   "outputs": [
    {
     "name": "stdout",
     "output_type": "stream",
     "text": [
      "Connected to: Rohde&Schwarz,FSQ-26,200750/026,4.75 successfully.\n"
     ]
    }
   ],
   "source": [
    "import json\n",
    "import os\n",
    "import math\n",
    "\n",
    "import utils.instrument as instru\n",
    "\n",
    "with open('./config/scpi_commands.json') as f:\n",
    "    scpi_cmds = json.load(f)['scpi_cmds']\n",
    "\n",
    "ip_addr = r'192.168.0.1'\n",
    "\n",
    "sa = instru.SpectrumAnalyzer(scpi_cmds, ip_addr)"
   ]
  },
  {
   "cell_type": "code",
   "execution_count": 6,
   "metadata": {},
   "outputs": [],
   "source": [
    "def unit_measurement(sa: instru.SpectrumAnalyzer, sa_config: dict):\n",
    "    sa.config(param='continues_sweep', value='OFF')  # stop sweep\n",
    "    input('Waiting for board launch up. Press enter to start measurement.')\n",
    "\n",
    "    sa.config(param=sa_config)  # start continues sweep\n",
    "\n",
    "    input(f\"Waiting trace to stabilize. Press Enter to stop sweep.\")\n",
    "    sa.config(param='continues_sweep', value='OFF')  # stop sweep\n",
    "\n",
    "    peak_freq, peak_power = sa.aquire_peak_point()\n",
    "\n",
    "    return peak_freq, peak_power\n",
    "\n",
    "def search(sa: instru.SpectrumAnalyzer, giteki_dict: dict, measure_item: str, freq_band: str,\n",
    "           working_dir: str, rule=r'49_27_3', method=r'general', spurious=True):\n",
    "    \n",
    "    \"\"\"\n",
    "    A function to perform 'search' and 'zoom in' step\n",
    "    \"\"\"\n",
    "    screenshots_save_dir = os.path.join(working_dir, 'screenshots')\n",
    "    trace_data_save_dir = os.path.join(working_dir, 'trace_data')\n",
    "\n",
    "    # search step\n",
    "    sa_config = giteki_dict['search']['common']\n",
    "    sa_config.update(giteki_dict['masks'][rule][freq_band]['freq'])  # add freq info\n",
    "    if measure_item == 'peak':\n",
    "        sa_config.update(giteki_dict['search']['diff']['peak']['general'])\n",
    "\n",
    "    search_freq, search_peak = unit_measurement(sa, sa_config)  # perform a measurement\n",
    "    screenshot_name = f\"{measure_item}_search.png\"\n",
    "    sa.save_screenshot(os.path.join(screenshots_save_dir, screenshot_name))\n",
    "\n",
    "    # judge if is spurious measurement according to freq_band\n",
    "\n",
    "    if measure_item == 'average':\n",
    "        trace_data_name = f'trace_data_interval({freq_band}).csv'\n",
    "        sa.save_trace_to_csv(os.path.join(trace_data_save_dir, trace_data_name))\n",
    "\n",
    "    del sa_config['start_freq']\n",
    "    del sa_config['stop_freq']\n",
    "    if measure_item == 'peak':\n",
    "        spans = ['100MHz']\n",
    "        sa_config.update(giteki_dict['search']['diff']['peak'][method])\n",
    "    else:\n",
    "        spans = ['100MHz', '10MHz']\n",
    "\n",
    "    for span in spans:\n",
    "        sa_config.update({'span': span, 'center_freq': search_freq})\n",
    "        search_freq, search_peak = unit_measurement(sa, sa_config)  # perform a measurement\n",
    "        screenshot_name = f\"{measure_item}_search_{span}.png\"\n",
    "        sa.save_screenshot(os.path.join(screenshots_save_dir, screenshot_name))\n",
    "\n",
    "    if not spurious and measure_item == 'peak':  # add correction factor\n",
    "        rbw = float(giteki_dict['search']['diff']['peak'][method]['RBW'].split('MHz')[0])\n",
    "        search_peak += 20 * math.log10(float(50.0) / rbw)\n",
    "\n",
    "    return (search_freq, search_peak)\n",
    "\n",
    "def determination(result: tuple, giteki_dict: dict, measure_item: str, freq_band: str, rule):\n",
    "    freq, peak = result\n",
    "    limit_dict = giteki_dict['masks'][rule][freq_band]['limit']\n",
    "\n",
    "    if measure_item not in limit_dict:\n",
    "        dividing_freq = float(limit_dict['dividing_freq'].split('GHz')[0]) * 1e9\n",
    "        measure_item = 'average1' if freq < dividing_freq else 'average2'\n",
    "    limit = float(limit_dict[measure_item].split('dBm')[0])\n",
    "\n",
    "    if 'allowable_dev' in limit_dict:\n",
    "        allowable_dev = float(limit_dict['allowable_dev'].split('%')[0]) / 100\n",
    "        limit = 10 * math.log10((10 ** (limit / 10)) * (1 + allowable_dev))\n",
    "\n",
    "    status = 'Passed' if peak <= limit else \"Failed\"\n",
    "\n",
    "    return {\n",
    "        f'freq': f\"{round(freq / 1e9, 5)}GHz\",\n",
    "        f'{measure_item}': [f\"{round(peak, 2)}dBm\", status],\n",
    "    }\n"
   ]
  },
  {
   "cell_type": "code",
   "execution_count": 17,
   "metadata": {},
   "outputs": [
    {
     "name": "stdout",
     "output_type": "stream",
     "text": [
      "Screenshot saved.\n",
      "Screenshot saved.\n"
     ]
    },
    {
     "data": {
      "text/plain": [
       "(8058402000.0, -25.953638563581077)"
      ]
     },
     "execution_count": 17,
     "metadata": {},
     "output_type": "execute_result"
    }
   ],
   "source": [
    "freq_band = '7.587GHz~8.4GHz'\n",
    "\n",
    "with open('./config/giteki_tmp.json') as f:\n",
    "    giteki_dict = json.load(f)\n",
    "\n",
    "\n",
    "search(sa, giteki_dict, measure_item='peak', freq_band=freq_band, working_dir='', spurious=False)\n"
   ]
  },
  {
   "cell_type": "code",
   "execution_count": 22,
   "metadata": {},
   "outputs": [],
   "source": [
    "res = determination((8058402000.0, -25.953638563581077), giteki_dict, 'peak', freq_band, rule='49_27_3')"
   ]
  },
  {
   "cell_type": "code",
   "execution_count": null,
   "metadata": {},
   "outputs": [],
   "source": []
  }
 ],
 "metadata": {
  "kernelspec": {
   "display_name": "UWB",
   "language": "python",
   "name": "python3"
  },
  "language_info": {
   "codemirror_mode": {
    "name": "ipython",
    "version": 3
   },
   "file_extension": ".py",
   "mimetype": "text/x-python",
   "name": "python",
   "nbconvert_exporter": "python",
   "pygments_lexer": "ipython3",
   "version": "3.10.14"
  }
 },
 "nbformat": 4,
 "nbformat_minor": 2
}
