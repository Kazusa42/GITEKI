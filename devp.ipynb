{
 "cells": [
  {
   "cell_type": "code",
   "execution_count": null,
   "metadata": {},
   "outputs": [
    {
     "name": "stdout",
     "output_type": "stream",
     "text": [
      "Connected to: Rohde&Schwarz,FSQ-26,200750/026,4.75 successfully.\n"
     ]
    }
   ],
   "source": [
    "import json\n",
    "import os\n",
    "import math\n",
    "\n",
    "import utils.instrument as instr\n",
    "\n",
    "with open('./config/scpi_commands.json') as f:\n",
    "    scpi_cmds = json.load(f)['scpi_cmds']\n",
    "\n",
    "ip_addr = r'192.168.0.1'\n",
    "\n",
    "sa = instr.SpectrumAnalyzer(scpi_cmds, ip_addr)"
   ]
  },
  {
   "cell_type": "code",
   "execution_count": 6,
   "metadata": {},
   "outputs": [],
   "source": [
    "def unit_measurement(sa: instr.SpectrumAnalyzer, sa_config: dict):\n",
    "    sa.config(param='continues_sweep', value='OFF')  # stop sweep\n",
    "    input('Waiting for board launch up. Press enter to start measurement.')\n",
    "\n",
    "    sa.config(param=sa_config)  # start continues sweep\n",
    "\n",
    "    input(f\"Waiting trace to stabilize. Press Enter to stop sweep.\")\n",
    "    sa.config(param='continues_sweep', value='OFF')  # stop sweep\n",
    "\n",
    "    peak_freq, peak_power = sa.aquire_peak_point()\n",
    "\n",
    "    return peak_freq, peak_power"
   ]
  },
  {
   "cell_type": "code",
   "execution_count": null,
   "metadata": {},
   "outputs": [],
   "source": [
    "import utils.components as comps\n",
    "import utils.instrument as instr\n",
    "\n",
    "t_cal = comps.TraceDataCalculator()\n",
    "\n",
    "def measure_obw_and_sbw(sa: instr.SpectrumAnalyzer, giteki_dict: dict, rule='49_27_3'):\n",
    "    # calculate center freq. and span\n",
    "    start_freq = float(giteki_dict['masks'][rule]['obw'].split('~')[0])  #GHz\n",
    "    stop_freq = float(giteki_dict['masks'][rule]['obw'].split('~')[1])   #GHz\n",
    "    sbw_limit = float(giteki_dict['masks']['sbw']) * 1e3  # MHz\n",
    "    obw_limit = (stop_freq - start_freq) * 1e3  # MHz\n",
    "    center_freq = (start_freq + stop_freq) / 2  # GHz\n",
    "    \n",
    "    # place tmp maker for obw measurement\n",
    "    sa.config(param='obw_percent', value='99PCT')\n",
    "    sa.config(param='obw_measure', value='SEL OBW', delimiter=':')\n",
    "    sa.config(param='obw_measure', value='RES? OBW', delimiter=':')\n",
    "\n",
    "    # construct other cfg of spectrum analyzer\n",
    "    sa_config = {'center_freq': f\"{center_freq}GHz\", 'span': f\"{obw_limit * 3}MHz\"}\n",
    "    sa_config.update(giteki_dict['obw_and_sbw'])\n",
    "\n",
    "    unit_measurement(sa, sa_config)          # perform measurement\n",
    "    sa.save_screenshot('obw_and_sbw.png')    # save screenshot\n",
    "    sa.save_trace_to_csv('obw_and_sbw.csv')  # save trace data\n",
    "\n",
    "    # use trace data to calculate obw and sbw\n",
    "    global t_cal\n",
    "    t_cal.read_trace_data('obw_and_sbw.csv')\n",
    "\n",
    "    # calculate obw\n",
    "    obw, l_freq, r_freq = t_cal.calculate_obw()\n",
    "    obw_status = \"Passed\" if obw <= obw_limit else \"Failed\"\n",
    "    l_freq_status = \"Passed\" if l_freq >= start_freq else \"Failed\"\n",
    "    r_freq_status = \"Passed\" if r_freq <= stop_freq else \"Failed\"\n",
    "    # calculate abw\n",
    "    sbw = t_cal.calculate_sbw()\n",
    "    sbw_status = \"Passed\" if sbw >= sbw_limit else \"Failed\"\n",
    "\n",
    "    return {\n",
    "        'obw': [f\"{obw}MHz\", obw_status],\n",
    "        'obw lower freq': [f\"{l_freq}GHz\", l_freq_status],\n",
    "        'obw upper freq': [f\"{r_freq}GHz\", r_freq_status],\n",
    "        'sbw': [f\"{sbw}MHz\", sbw_status]\n",
    "    }\n"
   ]
  },
  {
   "cell_type": "code",
   "execution_count": null,
   "metadata": {},
   "outputs": [],
   "source": []
  }
 ],
 "metadata": {
  "kernelspec": {
   "display_name": "UWB",
   "language": "python",
   "name": "python3"
  },
  "language_info": {
   "codemirror_mode": {
    "name": "ipython",
    "version": 3
   },
   "file_extension": ".py",
   "mimetype": "text/x-python",
   "name": "python",
   "nbconvert_exporter": "python",
   "pygments_lexer": "ipython3",
   "version": "3.10.14"
  }
 },
 "nbformat": 4,
 "nbformat_minor": 2
}
